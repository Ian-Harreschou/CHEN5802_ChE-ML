{
 "cells": [
  {
   "cell_type": "markdown",
   "metadata": {},
   "source": [
    "#### CHEN5802 - Course Project Proposal"
   ]
  },
  {
   "cell_type": "markdown",
   "metadata": {},
   "source": [
    "1. List the members of your team\n",
    "- Harreschou, Ian\n",
    "- Akiki, Chris\n",
    "- , Martin\n",
    "- , Eamon"
   ]
  },
  {
   "cell_type": "markdown",
   "metadata": {},
   "source": [
    "2. Briefly describe the background for the topic you’ve chosen (~3-5 sentences)\n",
    "- Ab-initio molecular dynamics (AIMD) is a hybrid approach utilizing molecular dynamics simulations and ab-initio methods like DFT. After every time-step of the broader MD simulation, the system's total energy is calculated from first-principles, instead of via empirical force fields or potentials as in traditional MD. It is widely known that first-principles calculations are computationally expensive, scaling with $N^3$ or $N^4$ (where $N$ is the number of electrons in the system), thus it's typically reserved for small atomic systems. Deep neural-networks (DNNs)--once trained on atomic configurations and their associated ground-state energy--can act as surrogate models for these QM calculations, speeding up the process.\n",
    "- Use of `DeePMD-kit` to quickly train and deploy DNNs for use within MD environments such as `LAAMPS`, `GROMACs`"
   ]
  },
  {
   "cell_type": "markdown",
   "metadata": {},
   "source": [
    "3. Briefly describe the aims of your project (~3-5 sentences)\n",
    "- Train a neural-network interatomic-potential and successfully utilize it in an MD simulation\n",
    "- Benchmark the results of the MD with other AIMD/MD simulations. \n",
    "- Perform an interpretability analysis on the results, i.e. investigating feature importance (if applicable). "
   ]
  },
  {
   "cell_type": "markdown",
   "metadata": {},
   "source": [
    "4. Briefly describe the dataset(s) you plan to analyze (~3-5 sentences)\n",
    "- We will be using data that CHGNet is pre-trained on (Materials Project Trajectory Dataset)\n",
    "- A subset of materials of interest will be queried from the overal dataset, and be used to inform the DNN model\n",
    "- Predictions will be made after the fact, on structures that were not included in the training"
   ]
  },
  {
   "cell_type": "markdown",
   "metadata": {},
   "source": [
    "5. Briefly list some data science questions you are going to ask of the data (~3-5\n",
    "sentences)\n",
    "- How accurately can we reproduce the \"ground-truth\" energy using a deep neural-network IAP (i.e. how close to DFT values can our model get for a given system)?\n",
    "- Are the results of the MD simulations close to reference material? \n",
    "- How well does the model generalize or transfer to datasets that are not included in the training (i.e. can the functional form of the IAP derived from a specific class of materials be used to make predictions on new classes/structures)?\n",
    "- **Some notion of feature importance ~** Can we speed up training and deployment through featuring pruning without significantly harming the model's performance? "
   ]
  },
  {
   "cell_type": "markdown",
   "metadata": {},
   "source": []
  }
 ],
 "metadata": {
  "language_info": {
   "name": "python"
  }
 },
 "nbformat": 4,
 "nbformat_minor": 2
}
