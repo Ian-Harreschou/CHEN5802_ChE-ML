{
 "cells": [
  {
   "cell_type": "markdown",
   "metadata": {},
   "source": [
    "#### CHEN5802 - Course Project Proposal"
   ]
  },
  {
   "cell_type": "markdown",
   "metadata": {},
   "source": [
    "1. List the members of your team\n",
    "- Harreschou, Ian\n",
    "- Akiki, Chris\n",
    "- Martin\n",
    "- Eamon"
   ]
  },
  {
   "cell_type": "markdown",
   "metadata": {},
   "source": [
    "2. Briefly describe the background for the topic you’ve chosen (~3-5 sentences)\n",
    "- Ab-initio molecular dynamics (AIMD) is a hybrid approach utilizing molecular dynamics simulations and ab-initio methods like DFT. After every time-step of the broader MD simulation, the system's total energy is calculated with DFT by way of electronic structure, instead of empirical force fields or potentials. \n",
    "- Broadly, (deep) machine-learned interatomic potentials (DNN-IPs) as efficient surrogate models for empirical IPs such as Lennard-Jones, Morse, EAM, or many-body IPs.\n",
    "- Use of `DeePMD-kit` to quickly train and deploy DNNs for use within MD environments such as `LAAMPS`, `GROMACs`"
   ]
  },
  {
   "cell_type": "markdown",
   "metadata": {},
   "source": [
    "3. Briefly describe the aims of your project (~3-5 sentences)\n",
    "- \n",
    "- Benchmark the results of the "
   ]
  },
  {
   "cell_type": "markdown",
   "metadata": {},
   "source": [
    "4. Briefly describe the dataset(s) you plan to analyze (~3-5 sentences)\n",
    "- We will select a class of **(thin-film)** materials of interest (i.e. transition-state metal oxides)"
   ]
  },
  {
   "cell_type": "markdown",
   "metadata": {},
   "source": [
    "5. Briefly list some data science questions you are going to ask of the data (~3-5\n",
    "sentences)\n",
    "- How accurately can we reproduce the \"ground-truth\" energy using a deep neural-network IAP (i.e. how close to DFT values can our model get for a given system)?\n",
    "- Are the results of the MD simulations close to reference material? \n",
    "- How well does the model generalize or transfer to datasets that are not included in the training (i.e. can the functional form of the IAP derived from a specific class of materials be used to make predictions on new classes/structures)?\n",
    "- **Some notion of feature importance ~** Can we speed up training and deployment through featuring pruning without significantly harming the model's performance? "
   ]
  },
  {
   "cell_type": "markdown",
   "metadata": {},
   "source": []
  }
 ],
 "metadata": {
  "language_info": {
   "name": "python"
  }
 },
 "nbformat": 4,
 "nbformat_minor": 2
}
