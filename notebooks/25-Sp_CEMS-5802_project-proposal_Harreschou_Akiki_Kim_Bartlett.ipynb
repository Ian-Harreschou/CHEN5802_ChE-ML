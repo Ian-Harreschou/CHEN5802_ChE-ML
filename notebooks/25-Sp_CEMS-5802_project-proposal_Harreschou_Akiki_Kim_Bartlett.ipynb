{
 "cells": [
  {
   "cell_type": "markdown",
   "metadata": {},
   "source": [
    "#### CHEN5802 - Course Project Proposal"
   ]
  },
  {
   "cell_type": "markdown",
   "metadata": {},
   "source": [
    "1. List the members of your team\n",
    "- Harreschou, Ian\n",
    "- Akiki, Chris\n",
    "- Kim, Martin\n",
    "- Bartlett, Eamon"
   ]
  },
  {
   "cell_type": "markdown",
   "metadata": {},
   "source": [
    "2. Briefly describe the background for the topic you’ve chosen (~3-5 sentences)\n",
    "- Ab-initio molecular dynamics (AIMD) is a hybrid approach utilizing molecular dynamics simulations and ab-initio methods like DFT. After every time-step of the broader MD simulation, the system's total energy is calculated from first-principles, instead of via empirical force fields or (pair, cluster, many-body) potentials as in traditional MD. It is widely known that first-principles calculations are computationally expensive, scaling with $N^3$ or $N^4$ (where $N$ is the number of electrons in the system), thus it's typically reserved for small atomic systems. Deep neural-networks (DNNs)--once trained on atomic configurations and their associated ground-state energy--can act as surrogate models for these QM calculations, speeding up the process.\n",
    "- Use of `DeePMD-kit` to quickly train and deploy DNNs for use within MD environments such as `LAMMPS` and `GROMACs`.\n",
    "- Attempt to train off-the-shelf foundational ML-IAPs, such as `CRGNet` and those found in `MatGL`, to new data."
   ]
  },
  {
   "cell_type": "markdown",
   "metadata": {},
   "source": [
    "3. Briefly describe the aims of your project (~3-5 sentences)\n",
    "- Train a neural-network interatomic-potential and successfully utilize it in an MD simulation\n",
    "- Benchmark the results of the MD with the trained potential with other AIMD/MD simulations to compare accuracy and speed. \n",
    "- Perform an interpretability analysis on the results, i.e. investigating feature importance (if applicable). "
   ]
  },
  {
   "cell_type": "markdown",
   "metadata": {},
   "source": [
    "4. Briefly describe the dataset(s) you plan to analyze (~3-5 sentences)\n",
    "- We will be using a sampled set of data from the same pool that `CHGNet` is pre-trained on (Materials Project Trajectory Dataset).\n",
    "- A subset of materials of interest will be queried from the overall dataset, and be used to inform the DNN model(s).\n",
    "- Predictions will be made after the fact, on structures that were not included in the training. "
   ]
  },
  {
   "cell_type": "markdown",
   "metadata": {},
   "source": [
    "5. Briefly list some data science questions you are going to ask of the data (~3-5\n",
    "sentences)\n",
    "- How accurately can we reproduce the \"ground-truth\" DFT energy using a deep neural-network IP (i.e. how close to DFT values can our model get for a given system)?\n",
    "- Are the results of the MD simulations close to reference material? \n",
    "- How well does the model generalize or transfer to datasets that are not included in the training (i.e. can the functional form of the IAP derived from a specific class of materials be used to make predictions on new classes/structures)?\n",
    "- Can we speed up training and deployment through featuring pruning without significantly harming the model's performance? \n",
    "- How does the quality and composition of molecular features affect the training outcome(s)? What are some major differences between the architectures of each of the models used?"
   ]
  }
 ],
 "metadata": {
  "language_info": {
   "name": "python"
  }
 },
 "nbformat": 4,
 "nbformat_minor": 2
}
