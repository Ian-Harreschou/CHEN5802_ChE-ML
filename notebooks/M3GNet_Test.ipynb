{
 "cells": [
  {
   "cell_type": "code",
   "execution_count": null,
   "id": "95ccd1d7",
   "metadata": {},
   "outputs": [
    {
     "name": "stdout",
     "output_type": "stream",
     "text": [
      "Torch ver: 2.1.2+cpu\n",
      "MatGL ver: 1.2.6\n",
      "MatPES ver: 0.0.3\n"
     ]
    }
   ],
   "source": [
    "# !pip install matgl\n",
    "# !pip install matpes\n",
    "\n",
    "from pymatgen.core import Lattice, Structure\n",
    "import numpy as np\n",
    "import torch\n",
    "import pandas as pd\n",
    "\n",
    "import gzip\n",
    "import json\n",
    "\n",
    "# MatGL, a package that wraps all the ML-IAPs we want to use\n",
    "import matgl\n",
    "\n",
    "# MatPES, for downloading the datasets we care about\n",
    "import matpes\n",
    "\n",
    "print(f'MatPES ver: {matpes.__version__}')\n",
    "print(f'Torch ver: {torch.__version__}')\n",
    "print(f'MatGL ver: {matgl.__version__}')"
   ]
  },
  {
   "cell_type": "code",
   "execution_count": null,
   "id": "4c45e605",
   "metadata": {},
   "outputs": [
    {
     "name": "stdout",
     "output_type": "stream",
     "text": [
      "CHGNet-MPtrj-2023.12.1-2.7M-PES\n",
      "CHGNet-MPtrj-2024.2.13-11M-PES\n",
      "CHGNet-MatPES-PBE-2025.2.10-2.7M-PES\n",
      "CHGNet-MatPES-r2SCAN-2025.2.10-2.7M-PES\n",
      "M3GNet-MP-2018.6.1-Eform\n",
      "M3GNet-MP-2021.2.8-DIRECT-PES\n",
      "M3GNet-MP-2021.2.8-PES\n",
      "M3GNet-MatPES-PBE-v2025.1-PES\n",
      "M3GNet-MatPES-r2SCAN-v2025.1-PES\n",
      "MEGNet-MP-2018.6.1-Eform\n",
      "MEGNet-MP-2019.4.1-BandGap-mfi\n",
      "TensorNet-MatPES-PBE-v2025.1-PES\n",
      "TensorNet-MatPES-r2SCAN-v2025.1-PES\n"
     ]
    }
   ],
   "source": [
    "# Explore what model options we have available to us via the MatGL package\n",
    "\n",
    "for model in matgl.get_available_pretrained_models():\n",
    "    print(model)"
   ]
  },
  {
   "cell_type": "code",
   "execution_count": null,
   "id": "28ecafe9",
   "metadata": {},
   "outputs": [],
   "source": [
    "# assumes that the data has been downloaded into a neighboring '/data' directory\n",
    "\n",
    "def load_PBE_data(full_dataset, target_system):\n",
    "    \"\"\"\n",
    "    Inputs:\n",
    "    full_dataset (file path) : path to raw PBE dataset, in .json.gz format\n",
    "    target_dataset (str): a desired filter of the overall dataset based on chemical system\n",
    "\n",
    "    Returns:\n",
    "    filtered_data ()\n",
    "    \"\"\"\n",
    "\n",
    "    if type(target_system) != str:\n",
    "        TypeError(\"Target system should be a string, e.g. 'Fe-O'!\")\n",
    "\n",
    "    with gzip.open(full_dataset, 'rt', encoding='utf-8') as f:\n",
    "        full_dataset = json.load(f)\n",
    "\n",
    "    return full_dataset"
   ]
  },
  {
   "cell_type": "code",
   "execution_count": 11,
   "id": "0edaed60",
   "metadata": {},
   "outputs": [
    {
     "name": "stdout",
     "output_type": "stream",
     "text": [
      "The complete dataset contains 434712 300K MD simulations and Materials Project ground state calculations\n"
     ]
    }
   ],
   "source": [
    "full_data = load_PBE_data(\"..\\data\\MatPES-PBE-2025.1.json.gz\",'Fe-O')\n",
    "\n",
    "print(f'The complete dataset contains {len(full_data)} 300K MD simulations and Materials Project ground state calculations')"
   ]
  },
  {
   "cell_type": "code",
   "execution_count": null,
   "id": "2d2bc2f9",
   "metadata": {},
   "outputs": [
    {
     "ename": "AttributeError",
     "evalue": "'list' object has no attribute 'keys'",
     "output_type": "error",
     "traceback": [
      "\u001b[1;31m---------------------------------------------------------------------------\u001b[0m",
      "\u001b[1;31mAttributeError\u001b[0m                            Traceback (most recent call last)",
      "Cell \u001b[1;32mIn[14], line 1\u001b[0m\n\u001b[1;32m----> 1\u001b[0m \u001b[43mfull_data\u001b[49m\u001b[38;5;241;43m.\u001b[39;49m\u001b[43mkeys\u001b[49m()\n",
      "\u001b[1;31mAttributeError\u001b[0m: 'list' object has no attribute 'keys'"
     ]
    }
   ],
   "source": [
    "for row in full_data[::50]:\n",
    "    print(row)"
   ]
  },
  {
   "cell_type": "code",
   "execution_count": null,
   "id": "51e6429f",
   "metadata": {},
   "outputs": [],
   "source": []
  }
 ],
 "metadata": {
  "kernelspec": {
   "display_name": "cems5802_test",
   "language": "python",
   "name": "python3"
  },
  "language_info": {
   "codemirror_mode": {
    "name": "ipython",
    "version": 3
   },
   "file_extension": ".py",
   "mimetype": "text/x-python",
   "name": "python",
   "nbconvert_exporter": "python",
   "pygments_lexer": "ipython3",
   "version": "3.11.11"
  }
 },
 "nbformat": 4,
 "nbformat_minor": 5
}
